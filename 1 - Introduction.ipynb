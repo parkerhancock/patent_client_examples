{
 "cells": [
  {
   "cell_type": "markdown",
   "metadata": {},
   "source": [
    "# Introduction to Patent_Client\n",
    "\n",
    "The patent_client package provides easy access to a number of USPTO and EPO patent data resources, all through a familiar ORM-like interface. If you have experience with the [Django ORM](https://docs.djangoproject.com/en/2.1/topics/db/queries/#retrieving-objects) with some extra features to accomodate the various data sources. Each data source is encapsulated in a Model object that represents various API's. The top-level models are:\n",
    "\n",
    "- `USApplication` (USPTO Patent Examination Data System)\n",
    "- `PtabTrial` (USPTO PTAB Trials API)\n",
    "- `Assignment` (USPTO Assignments API)\n",
    "- `Inpadoc` (EPO Inpadoc API)\n",
    "- `Epo` (EPO Register API)\n",
    "- `ITCInvestigation` (USITC EDS API)\n",
    "\n",
    "Several of these models also have sub-models, as discussed below. This notebook shows some simple examples for doing data lookups with each of the models. The other notebooks in the repository show more complex analysis using the [Pandas](https://pandas.pydata.org/) data science library."
   ]
  },
  {
   "cell_type": "markdown",
   "metadata": {},
   "source": [
    "## USApplication (USPTO Patent Examination Data System)\n",
    "\n",
    "The first model we'll look at is USApplication, an abstraction on top of the [USPTO Patent Examination Data System API](https://ped.uspto.gov/peds/#/apiDocumentation). The first step, which is common to all models, is to import the model object - USApplication. "
   ]
  },
  {
   "cell_type": "code",
   "execution_count": 1,
   "metadata": {},
   "outputs": [],
   "source": [
    "from patent_client import USApplication"
   ]
  },
  {
   "cell_type": "markdown",
   "metadata": {},
   "source": [
    "The model can then be queried to get actual data back to do analysis, review, etc. All queries take one of two forms:\n",
    "\n",
    "- Model.objects.filter(query) -> retreives many objects\n",
    "- Model.objects.get(query) -> retreives one object, otherwise throws an error\n",
    "\n",
    "For example, we can query USApplications by applicant by passing the query:\n",
    "```python\n",
    "    USApplication.objects.filter(first_named_applicant='Tesla Motors')\n",
    "```\n",
    "\n",
    "This query will retrieve all applications that name Tesla Motors as an applicant. By default, if you pass in only an argument without a keyword, like this:\n",
    "\n",
    "```python\n",
    "    USApplication.objects.get(\"10123456\")\n",
    "```\n",
    "the model assumes that you're referring to the application number, and fetches the corresponding app. A complete list of available query fields is available at Model.objects.query_fields. For example:\n",
    "\n",
    "```python\n",
    "    USApplication.objects.query_fields\n",
    "```\n",
    "\n",
    "*NOTE:* If you ever need help with something, try calling the Python builtin \"help\" function. All models have (or should have) super-handy help text about queries, available information, related objects, etc. E.g.:\n",
    "\n",
    "```python\n",
    "    help(USApplication)\n",
    "```  "
   ]
  },
  {
   "cell_type": "markdown",
   "metadata": {},
   "source": [
    "To protect the innocent, we'll use Tesla's patent portfolio as an example - a company that has publicly agreed not to assert its patents against others. To do a lookup by applicant, we query USApplication object like this:"
   ]
  },
  {
   "cell_type": "code",
   "execution_count": 2,
   "metadata": {},
   "outputs": [
    {
     "name": "stdout",
     "output_type": "stream",
     "text": [
      "We found apps with these applicant names:\n",
      "['Inc.\\nTesla Motors,', 'TESLA MOTORS, INC.', 'Tesla Motors, Inc.', 'TESLA MOTORS, INC', 'Tesla Motors Canada ULC', 'TESLA MOTORS. INC.']\n"
     ]
    }
   ],
   "source": [
    "tesla_apps = USApplication.objects.filter(first_named_applicant='Tesla Motors')\n",
    "print('We found apps with these applicant names:')\n",
    "print(list(set(a.applicants[0].name for a in tesla_apps)))"
   ]
  },
  {
   "cell_type": "markdown",
   "metadata": {},
   "source": [
    "Let's grab one case, and explore the data therein. Note that all Model objects are dataclasses, with all the magic that includes, including descriptive __str__ functions with basic data:"
   ]
  },
  {
   "cell_type": "code",
   "execution_count": 3,
   "metadata": {},
   "outputs": [
    {
     "data": {
      "text/plain": [
       "USApplication(appl_id='15016202', patent_title='PYROTECHNIC DISCONNECT WITH ARC SPLITTER PLATES', app_status='Patented Case')"
      ]
     },
     "execution_count": 3,
     "metadata": {},
     "output_type": "execute_result"
    }
   ],
   "source": [
    "tesla_app = tesla_apps[15]\n",
    "tesla_app"
   ]
  },
  {
   "cell_type": "markdown",
   "metadata": {},
   "source": [
    "A complete list of data attributes can be found by examining the fields of the dataclass"
   ]
  },
  {
   "cell_type": "code",
   "execution_count": 4,
   "metadata": {},
   "outputs": [
    {
     "data": {
      "text/plain": [
       "['appl_id',\n",
       " 'patent_title',\n",
       " 'app_status',\n",
       " 'inventors',\n",
       " 'app_filing_date',\n",
       " 'app_location',\n",
       " 'first_inventor_file',\n",
       " 'app_type',\n",
       " 'app_entity_status',\n",
       " 'app_confr_number',\n",
       " 'applicants',\n",
       " 'app_status_date',\n",
       " 'app_cls_sub_cls',\n",
       " 'app_grp_art_number',\n",
       " 'corr_addr_cust_no',\n",
       " 'app_cust_number',\n",
       " 'app_attr_dock_number',\n",
       " 'patent_number',\n",
       " 'patent_issue_date',\n",
       " 'app_early_pub_number',\n",
       " 'app_early_pub_date',\n",
       " 'app_exam_name',\n",
       " 'wipo_early_pub_number',\n",
       " 'wipo_early_pub_date',\n",
       " 'transactions',\n",
       " 'child_continuity',\n",
       " 'parent_continuity',\n",
       " 'pta_pte_tran_history',\n",
       " 'pta_pte_summary',\n",
       " 'correspondent',\n",
       " 'attorneys']"
      ]
     },
     "execution_count": 4,
     "metadata": {},
     "output_type": "execute_result"
    }
   ],
   "source": [
    "[f.name for f in tesla_app.fields()]"
   ]
  },
  {
   "cell_type": "markdown",
   "metadata": {},
   "source": [
    "As you can see, there is a wealth of data about this particular case. Most of the names are relatively self-explanatory. We can look at some basic data by grabbing all the elements that start with \"app\". First, we'll use the .as_dict() method to convert the application to a standard Python dictionary. Then we'll only print items if they contain \"_app\":"
   ]
  },
  {
   "cell_type": "code",
   "execution_count": 5,
   "metadata": {},
   "outputs": [
    {
     "name": "stdout",
     "output_type": "stream",
     "text": [
      "app_attr_dock_number: TSLA.410A1\n",
      "app_cls_sub_cls: 337/414000\n",
      "app_confr_number: 7035\n",
      "app_cust_number: 113241\n",
      "app_early_pub_date: 2017-08-10\n",
      "app_early_pub_number: US20170229268A1\n",
      "app_entity_status: UNDISCOUNTED\n",
      "app_exam_name: CRUM, JACOB R\n",
      "app_filing_date: 2016-02-04\n",
      "app_grp_art_number: 2835\n",
      "app_location: ELECTRONIC\n",
      "app_status: Patented Case\n",
      "app_status_date: 2019-09-04\n",
      "app_type: Utility\n",
      "appl_id: 15016202\n"
     ]
    }
   ],
   "source": [
    "for k, v in tesla_app.as_dict().items():\n",
    "    if 'app_' in k or k == 'appl_id':\n",
    "        print(f'{k}: {v}')\n",
    "        "
   ]
  },
  {
   "cell_type": "markdown",
   "metadata": {},
   "source": [
    "There are also some composite data elements. These elements consist of several related Model objects that model some part of the Application data. These data elements are:\n",
    "    \n",
    "- `USApplication.transactions` (a list of Transaction objects)\n",
    "- `USApplication.children` and `USApplication.parents` (both are lists of Relationship objects)\n",
    "- `USApplication.foreign_priority` (a list of ForeignPriority objects)\n",
    "- `USApplication.pta_pte_history` (a list of PtaPteHistory objects)\n",
    "- `USApplication.pta_pte_summary` (a PtaPteSummary object)\n",
    "- `USApplication.correspondent` (a Correspondent object)\n",
    "- `USApplication.attorneys` (a list of Attorney objects)\n",
    "    \n",
    "To use as an example, let's take a look at the transaction data, and fetch the first 15 records. "
   ]
  },
  {
   "cell_type": "code",
   "execution_count": 6,
   "metadata": {},
   "outputs": [
    {
     "data": {
      "text/plain": [
       "[Transaction(date=datetime.date(2019, 9, 24), code='PGM/', description='Recordation of Patent Grant Mailed'),\n",
       " Transaction(date=datetime.date(2019, 9, 5), code='EML_NTR', description='Email Notification'),\n",
       " Transaction(date=datetime.date(2019, 9, 4), code='WPIR', description='Issue Notification Mailed'),\n",
       " Transaction(date=datetime.date(2019, 9, 24), code='PTAC', description='Patent Issue Date Used in PTA Calculation'),\n",
       " Transaction(date=datetime.date(2019, 8, 21), code='D1935', description='Dispatch to FDC'),\n",
       " Transaction(date=datetime.date(2019, 8, 13), code='REAS', description='Response to Reasons for Allowance'),\n",
       " Transaction(date=datetime.date(2019, 8, 15), code='PILS', description='Application Is Considered Ready for Issue'),\n",
       " Transaction(date=datetime.date(2019, 8, 13), code='N084', description='Issue Fee Payment Verified'),\n",
       " Transaction(date=datetime.date(2019, 8, 13), code='IFEE', description='Issue Fee Payment Received'),\n",
       " Transaction(date=datetime.date(2019, 5, 22), code='ELC_RVW', description='Electronic Review'),\n",
       " Transaction(date=datetime.date(2019, 5, 22), code='EML_NTF', description='Email Notification'),\n",
       " Transaction(date=datetime.date(2019, 5, 22), code='MN/=.', description='Mail Notice of Allowance'),\n",
       " Transaction(date=datetime.date(2019, 5, 18), code='N/=.', description='Notice of Allowance Data Verification Completed'),\n",
       " Transaction(date=datetime.date(2019, 5, 12), code='EX.R', description='Reasons for Allowance'),\n",
       " Transaction(date=datetime.date(2019, 4, 30), code='FWDX', description='Date Forwarded to Examiner')]"
      ]
     },
     "execution_count": 6,
     "metadata": {},
     "output_type": "execute_result"
    }
   ],
   "source": [
    "tesla_app.transactions[:15]"
   ]
  },
  {
   "cell_type": "markdown",
   "metadata": {},
   "source": [
    "You might notice that the above data is relatively messy. We can make the data look a bit cleaner by converting the objects to a Pandas dataframe. Every list of objects in patent_client has a .to_pandas method that will convert it to a pandas dataframe:"
   ]
  },
  {
   "cell_type": "code",
   "execution_count": 7,
   "metadata": {},
   "outputs": [
    {
     "name": "stderr",
     "output_type": "stream",
     "text": [
      "/Users/parkerhancock/.pyenv/versions/3.7.4/lib/python3.7/site-packages/ipykernel_launcher.py:2: FutureWarning: Passing a negative integer is deprecated in version 1.0 and will not be supported in future version. Instead, use None to not limit the column width.\n",
      "  \n"
     ]
    },
    {
     "data": {
      "text/html": [
       "<div>\n",
       "<style scoped>\n",
       "    .dataframe tbody tr th:only-of-type {\n",
       "        vertical-align: middle;\n",
       "    }\n",
       "\n",
       "    .dataframe tbody tr th {\n",
       "        vertical-align: top;\n",
       "    }\n",
       "\n",
       "    .dataframe thead th {\n",
       "        text-align: right;\n",
       "    }\n",
       "</style>\n",
       "<table border=\"1\" class=\"dataframe\">\n",
       "  <thead>\n",
       "    <tr style=\"text-align: right;\">\n",
       "      <th></th>\n",
       "      <th>code</th>\n",
       "      <th>date</th>\n",
       "      <th>description</th>\n",
       "    </tr>\n",
       "  </thead>\n",
       "  <tbody>\n",
       "    <tr>\n",
       "      <th>0</th>\n",
       "      <td>PGM/</td>\n",
       "      <td>2019-09-24</td>\n",
       "      <td>Recordation of Patent Grant Mailed</td>\n",
       "    </tr>\n",
       "    <tr>\n",
       "      <th>1</th>\n",
       "      <td>EML_NTR</td>\n",
       "      <td>2019-09-05</td>\n",
       "      <td>Email Notification</td>\n",
       "    </tr>\n",
       "    <tr>\n",
       "      <th>2</th>\n",
       "      <td>WPIR</td>\n",
       "      <td>2019-09-04</td>\n",
       "      <td>Issue Notification Mailed</td>\n",
       "    </tr>\n",
       "    <tr>\n",
       "      <th>3</th>\n",
       "      <td>PTAC</td>\n",
       "      <td>2019-09-24</td>\n",
       "      <td>Patent Issue Date Used in PTA Calculation</td>\n",
       "    </tr>\n",
       "    <tr>\n",
       "      <th>4</th>\n",
       "      <td>D1935</td>\n",
       "      <td>2019-08-21</td>\n",
       "      <td>Dispatch to FDC</td>\n",
       "    </tr>\n",
       "    <tr>\n",
       "      <th>5</th>\n",
       "      <td>REAS</td>\n",
       "      <td>2019-08-13</td>\n",
       "      <td>Response to Reasons for Allowance</td>\n",
       "    </tr>\n",
       "    <tr>\n",
       "      <th>6</th>\n",
       "      <td>PILS</td>\n",
       "      <td>2019-08-15</td>\n",
       "      <td>Application Is Considered Ready for Issue</td>\n",
       "    </tr>\n",
       "    <tr>\n",
       "      <th>7</th>\n",
       "      <td>N084</td>\n",
       "      <td>2019-08-13</td>\n",
       "      <td>Issue Fee Payment Verified</td>\n",
       "    </tr>\n",
       "    <tr>\n",
       "      <th>8</th>\n",
       "      <td>IFEE</td>\n",
       "      <td>2019-08-13</td>\n",
       "      <td>Issue Fee Payment Received</td>\n",
       "    </tr>\n",
       "    <tr>\n",
       "      <th>9</th>\n",
       "      <td>ELC_RVW</td>\n",
       "      <td>2019-05-22</td>\n",
       "      <td>Electronic Review</td>\n",
       "    </tr>\n",
       "    <tr>\n",
       "      <th>10</th>\n",
       "      <td>EML_NTF</td>\n",
       "      <td>2019-05-22</td>\n",
       "      <td>Email Notification</td>\n",
       "    </tr>\n",
       "    <tr>\n",
       "      <th>11</th>\n",
       "      <td>MN/=.</td>\n",
       "      <td>2019-05-22</td>\n",
       "      <td>Mail Notice of Allowance</td>\n",
       "    </tr>\n",
       "    <tr>\n",
       "      <th>12</th>\n",
       "      <td>N/=.</td>\n",
       "      <td>2019-05-18</td>\n",
       "      <td>Notice of Allowance Data Verification Completed</td>\n",
       "    </tr>\n",
       "    <tr>\n",
       "      <th>13</th>\n",
       "      <td>EX.R</td>\n",
       "      <td>2019-05-12</td>\n",
       "      <td>Reasons for Allowance</td>\n",
       "    </tr>\n",
       "    <tr>\n",
       "      <th>14</th>\n",
       "      <td>FWDX</td>\n",
       "      <td>2019-04-30</td>\n",
       "      <td>Date Forwarded to Examiner</td>\n",
       "    </tr>\n",
       "  </tbody>\n",
       "</table>\n",
       "</div>"
      ],
      "text/plain": [
       "       code        date                                      description\n",
       "0   PGM/     2019-09-24  Recordation of Patent Grant Mailed             \n",
       "1   EML_NTR  2019-09-05  Email Notification                             \n",
       "2   WPIR     2019-09-04  Issue Notification Mailed                      \n",
       "3   PTAC     2019-09-24  Patent Issue Date Used in PTA Calculation      \n",
       "4   D1935    2019-08-21  Dispatch to FDC                                \n",
       "5   REAS     2019-08-13  Response to Reasons for Allowance              \n",
       "6   PILS     2019-08-15  Application Is Considered Ready for Issue      \n",
       "7   N084     2019-08-13  Issue Fee Payment Verified                     \n",
       "8   IFEE     2019-08-13  Issue Fee Payment Received                     \n",
       "9   ELC_RVW  2019-05-22  Electronic Review                              \n",
       "10  EML_NTF  2019-05-22  Email Notification                             \n",
       "11  MN/=.    2019-05-22  Mail Notice of Allowance                       \n",
       "12  N/=.     2019-05-18  Notice of Allowance Data Verification Completed\n",
       "13  EX.R     2019-05-12  Reasons for Allowance                          \n",
       "14  FWDX     2019-04-30  Date Forwarded to Examiner                     "
      ]
     },
     "execution_count": 7,
     "metadata": {},
     "output_type": "execute_result"
    }
   ],
   "source": [
    "import pandas as pd\n",
    "pd.set_option('display.max_colwidth', -1) # makes sure the table runs all the way to the edge\n",
    "\n",
    "tesla_app.transactions[:15].to_pandas()"
   ]
  },
  {
   "cell_type": "markdown",
   "metadata": {},
   "source": [
    "## PtabTrial (USPTO PTAB Api)\n",
    "\n",
    "Now that you've seen a little bit of the USApplication API, let's take a look at the PTAB Trials API. We'll start with the usual import:"
   ]
  },
  {
   "cell_type": "code",
   "execution_count": 8,
   "metadata": {},
   "outputs": [],
   "source": [
    "from patent_client import PtabProceeding"
   ]
  },
  {
   "cell_type": "markdown",
   "metadata": {},
   "source": [
    "For randomness' sake, we'll pick the first IPR of 2017 to play around with, and look it up by its trial number:"
   ]
  },
  {
   "cell_type": "code",
   "execution_count": 9,
   "metadata": {},
   "outputs": [
    {
     "ename": "TypeError",
     "evalue": "__init__() missing 1 required positional argument: 'respondent_party_name'",
     "output_type": "error",
     "traceback": [
      "\u001b[0;31m---------------------------------------------------------------------------\u001b[0m",
      "\u001b[0;31mTypeError\u001b[0m                                 Traceback (most recent call last)",
      "\u001b[0;32m<ipython-input-9-91d2e08e9720>\u001b[0m in \u001b[0;36m<module>\u001b[0;34m\u001b[0m\n\u001b[0;32m----> 1\u001b[0;31m \u001b[0mtrial\u001b[0m \u001b[0;34m=\u001b[0m \u001b[0mPtabProceeding\u001b[0m\u001b[0;34m.\u001b[0m\u001b[0mobjects\u001b[0m\u001b[0;34m.\u001b[0m\u001b[0mget\u001b[0m\u001b[0;34m(\u001b[0m\u001b[0;34m'IPR2017-00001'\u001b[0m\u001b[0;34m)\u001b[0m\u001b[0;34m\u001b[0m\u001b[0;34m\u001b[0m\u001b[0m\n\u001b[0m\u001b[1;32m      2\u001b[0m \u001b[0mprint\u001b[0m\u001b[0;34m(\u001b[0m\u001b[0;34mf'PTAB Trial No. {trial.trial_number} was filed {trial.filing_date} to challenge U.S. Patent {trial.patent_number}'\u001b[0m\u001b[0;34m)\u001b[0m\u001b[0;34m\u001b[0m\u001b[0;34m\u001b[0m\u001b[0m\n\u001b[1;32m      3\u001b[0m \u001b[0mprint\u001b[0m\u001b[0;34m(\u001b[0m\u001b[0;34mf'The case is styled {trial.petitioner_party_name} v. {trial.patent_owner_name}'\u001b[0m\u001b[0;34m)\u001b[0m\u001b[0;34m\u001b[0m\u001b[0;34m\u001b[0m\u001b[0m\n",
      "\u001b[0;32m~/Projects/patent_client/src/patent_client/util/manager.py\u001b[0m in \u001b[0;36mget\u001b[0;34m(self, *args, **kwargs)\u001b[0m\n\u001b[1;32m    165\u001b[0m         \u001b[0;32mif\u001b[0m \u001b[0mlen\u001b[0m\u001b[0;34m(\u001b[0m\u001b[0mmanager\u001b[0m\u001b[0;34m)\u001b[0m \u001b[0;34m>\u001b[0m \u001b[0;36m1\u001b[0m\u001b[0;34m:\u001b[0m\u001b[0;34m\u001b[0m\u001b[0;34m\u001b[0m\u001b[0m\n\u001b[1;32m    166\u001b[0m             \u001b[0;32mraise\u001b[0m \u001b[0mValueError\u001b[0m\u001b[0;34m(\u001b[0m\u001b[0;34m\"More than one document found!\"\u001b[0m\u001b[0;34m)\u001b[0m\u001b[0;34m\u001b[0m\u001b[0;34m\u001b[0m\u001b[0m\n\u001b[0;32m--> 167\u001b[0;31m         \u001b[0;32mreturn\u001b[0m \u001b[0mmanager\u001b[0m\u001b[0;34m[\u001b[0m\u001b[0;36m0\u001b[0m\u001b[0;34m]\u001b[0m \u001b[0;31m# type: ignore\u001b[0m\u001b[0;34m\u001b[0m\u001b[0;34m\u001b[0m\u001b[0m\n\u001b[0m\u001b[1;32m    168\u001b[0m \u001b[0;34m\u001b[0m\u001b[0m\n\u001b[1;32m    169\u001b[0m     \u001b[0;31m# Manager Functions\u001b[0m\u001b[0;34m\u001b[0m\u001b[0;34m\u001b[0m\u001b[0;34m\u001b[0m\u001b[0m\n",
      "\u001b[0;32m~/Projects/patent_client/src/patent_client/util/manager.py\u001b[0m in \u001b[0;36m__getitem__\u001b[0;34m(self, key)\u001b[0m\n\u001b[1;32m    118\u001b[0m             \u001b[0mmger\u001b[0m \u001b[0;34m=\u001b[0m \u001b[0mmger\u001b[0m\u001b[0;34m.\u001b[0m\u001b[0mlimit\u001b[0m\u001b[0;34m(\u001b[0m\u001b[0mstop\u001b[0m \u001b[0;34m-\u001b[0m \u001b[0mstart\u001b[0m\u001b[0;34m)\u001b[0m\u001b[0;34m\u001b[0m\u001b[0;34m\u001b[0m\u001b[0m\n\u001b[1;32m    119\u001b[0m             \u001b[0;32mreturn\u001b[0m \u001b[0mmger\u001b[0m\u001b[0;34m\u001b[0m\u001b[0;34m\u001b[0m\u001b[0m\n\u001b[0;32m--> 120\u001b[0;31m         \u001b[0;32mreturn\u001b[0m \u001b[0mself\u001b[0m\u001b[0;34m.\u001b[0m\u001b[0moffset\u001b[0m\u001b[0;34m(\u001b[0m\u001b[0mkey\u001b[0m\u001b[0;34m)\u001b[0m\u001b[0;34m.\u001b[0m\u001b[0mfirst\u001b[0m\u001b[0;34m(\u001b[0m\u001b[0;34m)\u001b[0m\u001b[0;34m\u001b[0m\u001b[0;34m\u001b[0m\u001b[0m\n\u001b[0m\u001b[1;32m    121\u001b[0m \u001b[0;34m\u001b[0m\u001b[0m\n\u001b[1;32m    122\u001b[0m     \u001b[0;32mdef\u001b[0m \u001b[0mfilter\u001b[0m\u001b[0;34m(\u001b[0m\u001b[0mself\u001b[0m\u001b[0;34m,\u001b[0m \u001b[0;34m*\u001b[0m\u001b[0margs\u001b[0m\u001b[0;34m,\u001b[0m \u001b[0;34m**\u001b[0m\u001b[0mkwargs\u001b[0m\u001b[0;34m)\u001b[0m \u001b[0;34m->\u001b[0m \u001b[0mManager\u001b[0m\u001b[0;34m[\u001b[0m\u001b[0mModelType\u001b[0m\u001b[0;34m]\u001b[0m\u001b[0;34m:\u001b[0m\u001b[0;34m\u001b[0m\u001b[0;34m\u001b[0m\u001b[0m\n",
      "\u001b[0;32m~/Projects/patent_client/src/patent_client/util/manager.py\u001b[0m in \u001b[0;36mfirst\u001b[0;34m(self)\u001b[0m\n\u001b[1;32m    173\u001b[0m \u001b[0;34m\u001b[0m\u001b[0m\n\u001b[1;32m    174\u001b[0m     \u001b[0;32mdef\u001b[0m \u001b[0mfirst\u001b[0m\u001b[0;34m(\u001b[0m\u001b[0mself\u001b[0m\u001b[0;34m)\u001b[0m \u001b[0;34m->\u001b[0m \u001b[0mModelType\u001b[0m\u001b[0;34m:\u001b[0m\u001b[0;34m\u001b[0m\u001b[0;34m\u001b[0m\u001b[0m\n\u001b[0;32m--> 175\u001b[0;31m         \u001b[0;32mreturn\u001b[0m \u001b[0mnext\u001b[0m\u001b[0;34m(\u001b[0m\u001b[0miter\u001b[0m\u001b[0;34m(\u001b[0m\u001b[0mself\u001b[0m\u001b[0;34m)\u001b[0m\u001b[0;34m)\u001b[0m\u001b[0;34m\u001b[0m\u001b[0;34m\u001b[0m\u001b[0m\n\u001b[0m\u001b[1;32m    176\u001b[0m \u001b[0;34m\u001b[0m\u001b[0m\n\u001b[1;32m    177\u001b[0m     \u001b[0;32mdef\u001b[0m \u001b[0mall\u001b[0m\u001b[0;34m(\u001b[0m\u001b[0mself\u001b[0m\u001b[0;34m)\u001b[0m \u001b[0;34m->\u001b[0m \u001b[0mManager\u001b[0m\u001b[0;34m[\u001b[0m\u001b[0mModelType\u001b[0m\u001b[0;34m]\u001b[0m\u001b[0;34m:\u001b[0m\u001b[0;34m\u001b[0m\u001b[0;34m\u001b[0m\u001b[0m\n",
      "\u001b[0;32m~/Projects/patent_client/src/patent_client/util/manager.py\u001b[0m in \u001b[0;36m__iter__\u001b[0;34m(self)\u001b[0m\n\u001b[1;32m     88\u001b[0m                 \u001b[0;32myield\u001b[0m \u001b[0mitem\u001b[0m\u001b[0;34m\u001b[0m\u001b[0;34m\u001b[0m\u001b[0m\n\u001b[1;32m     89\u001b[0m             \u001b[0;31m# Yield out of the iterator, expanding the cache as you go.\u001b[0m\u001b[0;34m\u001b[0m\u001b[0;34m\u001b[0m\u001b[0;34m\u001b[0m\u001b[0m\n\u001b[0;32m---> 90\u001b[0;31m             \u001b[0;32mfor\u001b[0m \u001b[0mitem\u001b[0m \u001b[0;32min\u001b[0m \u001b[0mself\u001b[0m\u001b[0;34m.\u001b[0m\u001b[0m__result_iterator__\u001b[0m\u001b[0;34m:\u001b[0m\u001b[0;34m\u001b[0m\u001b[0;34m\u001b[0m\u001b[0m\n\u001b[0m\u001b[1;32m     91\u001b[0m                 \u001b[0mself\u001b[0m\u001b[0;34m.\u001b[0m\u001b[0m__cache__\u001b[0m\u001b[0;34m.\u001b[0m\u001b[0mappend\u001b[0m\u001b[0;34m(\u001b[0m\u001b[0mitem\u001b[0m\u001b[0;34m)\u001b[0m\u001b[0;34m\u001b[0m\u001b[0;34m\u001b[0m\u001b[0m\n\u001b[1;32m     92\u001b[0m                 \u001b[0;32myield\u001b[0m \u001b[0mitem\u001b[0m\u001b[0;34m\u001b[0m\u001b[0;34m\u001b[0m\u001b[0m\n",
      "\u001b[0;32m~/Projects/patent_client/src/patent_client/uspto/ptab/manager.py\u001b[0m in \u001b[0;36m_get_results\u001b[0;34m(self)\u001b[0m\n\u001b[1;32m     32\u001b[0m             \u001b[0;32mfor\u001b[0m \u001b[0mitem\u001b[0m \u001b[0;32min\u001b[0m \u001b[0mself\u001b[0m\u001b[0;34m.\u001b[0m\u001b[0mget_page\u001b[0m\u001b[0;34m(\u001b[0m\u001b[0mp\u001b[0m\u001b[0;34m)\u001b[0m\u001b[0;34m:\u001b[0m\u001b[0;34m\u001b[0m\u001b[0;34m\u001b[0m\u001b[0m\n\u001b[1;32m     33\u001b[0m                 \u001b[0;32mif\u001b[0m \u001b[0mitem_range\u001b[0m\u001b[0;34m[\u001b[0m\u001b[0;36m0\u001b[0m\u001b[0;34m]\u001b[0m \u001b[0;34m<=\u001b[0m \u001b[0mcounter\u001b[0m \u001b[0;34m<\u001b[0m \u001b[0mitem_range\u001b[0m\u001b[0;34m[\u001b[0m\u001b[0;36m1\u001b[0m\u001b[0;34m]\u001b[0m\u001b[0;34m:\u001b[0m\u001b[0;34m\u001b[0m\u001b[0;34m\u001b[0m\u001b[0m\n\u001b[0;32m---> 34\u001b[0;31m                     \u001b[0;32myield\u001b[0m \u001b[0mself\u001b[0m\u001b[0;34m.\u001b[0m\u001b[0m__schema__\u001b[0m\u001b[0;34m.\u001b[0m\u001b[0mload\u001b[0m\u001b[0;34m(\u001b[0m\u001b[0mitem\u001b[0m\u001b[0;34m)\u001b[0m\u001b[0;34m\u001b[0m\u001b[0;34m\u001b[0m\u001b[0m\n\u001b[0m\u001b[1;32m     35\u001b[0m                 \u001b[0mcounter\u001b[0m \u001b[0;34m+=\u001b[0m \u001b[0;36m1\u001b[0m\u001b[0;34m\u001b[0m\u001b[0;34m\u001b[0m\u001b[0m\n\u001b[1;32m     36\u001b[0m                 \u001b[0;32mif\u001b[0m \u001b[0mcounter\u001b[0m \u001b[0;34m>=\u001b[0m \u001b[0mmax_item\u001b[0m\u001b[0;34m:\u001b[0m\u001b[0;34m\u001b[0m\u001b[0;34m\u001b[0m\u001b[0m\n",
      "\u001b[0;32m~/.pyenv/versions/3.7.4/lib/python3.7/site-packages/marshmallow/schema.py\u001b[0m in \u001b[0;36mload\u001b[0;34m(self, data, many, partial, unknown)\u001b[0m\n\u001b[1;32m    712\u001b[0m         \"\"\"\n\u001b[1;32m    713\u001b[0m         return self._do_load(\n\u001b[0;32m--> 714\u001b[0;31m             \u001b[0mdata\u001b[0m\u001b[0;34m,\u001b[0m \u001b[0mmany\u001b[0m\u001b[0;34m=\u001b[0m\u001b[0mmany\u001b[0m\u001b[0;34m,\u001b[0m \u001b[0mpartial\u001b[0m\u001b[0;34m=\u001b[0m\u001b[0mpartial\u001b[0m\u001b[0;34m,\u001b[0m \u001b[0munknown\u001b[0m\u001b[0;34m=\u001b[0m\u001b[0munknown\u001b[0m\u001b[0;34m,\u001b[0m \u001b[0mpostprocess\u001b[0m\u001b[0;34m=\u001b[0m\u001b[0;32mTrue\u001b[0m\u001b[0;34m\u001b[0m\u001b[0;34m\u001b[0m\u001b[0m\n\u001b[0m\u001b[1;32m    715\u001b[0m         )\n\u001b[1;32m    716\u001b[0m \u001b[0;34m\u001b[0m\u001b[0m\n",
      "\u001b[0;32m~/.pyenv/versions/3.7.4/lib/python3.7/site-packages/marshmallow/schema.py\u001b[0m in \u001b[0;36m_do_load\u001b[0;34m(self, data, many, partial, unknown, postprocess)\u001b[0m\n\u001b[1;32m    883\u001b[0m                         \u001b[0mmany\u001b[0m\u001b[0;34m=\u001b[0m\u001b[0mmany\u001b[0m\u001b[0;34m,\u001b[0m\u001b[0;34m\u001b[0m\u001b[0;34m\u001b[0m\u001b[0m\n\u001b[1;32m    884\u001b[0m                         \u001b[0moriginal_data\u001b[0m\u001b[0;34m=\u001b[0m\u001b[0mdata\u001b[0m\u001b[0;34m,\u001b[0m\u001b[0;34m\u001b[0m\u001b[0;34m\u001b[0m\u001b[0m\n\u001b[0;32m--> 885\u001b[0;31m                         \u001b[0mpartial\u001b[0m\u001b[0;34m=\u001b[0m\u001b[0mpartial\u001b[0m\u001b[0;34m,\u001b[0m\u001b[0;34m\u001b[0m\u001b[0;34m\u001b[0m\u001b[0m\n\u001b[0m\u001b[1;32m    886\u001b[0m                     )\n\u001b[1;32m    887\u001b[0m                 \u001b[0;32mexcept\u001b[0m \u001b[0mValidationError\u001b[0m \u001b[0;32mas\u001b[0m \u001b[0merr\u001b[0m\u001b[0;34m:\u001b[0m\u001b[0;34m\u001b[0m\u001b[0;34m\u001b[0m\u001b[0m\n",
      "\u001b[0;32m~/.pyenv/versions/3.7.4/lib/python3.7/site-packages/marshmallow/schema.py\u001b[0m in \u001b[0;36m_invoke_load_processors\u001b[0;34m(self, tag, data, many, original_data, partial)\u001b[0m\n\u001b[1;32m   1084\u001b[0m             \u001b[0mmany\u001b[0m\u001b[0;34m=\u001b[0m\u001b[0mmany\u001b[0m\u001b[0;34m,\u001b[0m\u001b[0;34m\u001b[0m\u001b[0;34m\u001b[0m\u001b[0m\n\u001b[1;32m   1085\u001b[0m             \u001b[0moriginal_data\u001b[0m\u001b[0;34m=\u001b[0m\u001b[0moriginal_data\u001b[0m\u001b[0;34m,\u001b[0m\u001b[0;34m\u001b[0m\u001b[0;34m\u001b[0m\u001b[0m\n\u001b[0;32m-> 1086\u001b[0;31m             \u001b[0mpartial\u001b[0m\u001b[0;34m=\u001b[0m\u001b[0mpartial\u001b[0m\u001b[0;34m,\u001b[0m\u001b[0;34m\u001b[0m\u001b[0;34m\u001b[0m\u001b[0m\n\u001b[0m\u001b[1;32m   1087\u001b[0m         )\n\u001b[1;32m   1088\u001b[0m         \u001b[0;32mreturn\u001b[0m \u001b[0mdata\u001b[0m\u001b[0;34m\u001b[0m\u001b[0;34m\u001b[0m\u001b[0m\n",
      "\u001b[0;32m~/.pyenv/versions/3.7.4/lib/python3.7/site-packages/marshmallow/schema.py\u001b[0m in \u001b[0;36m_invoke_processors\u001b[0;34m(self, tag, pass_many, data, many, original_data, **kwargs)\u001b[0m\n\u001b[1;32m   1210\u001b[0m                     \u001b[0mdata\u001b[0m \u001b[0;34m=\u001b[0m \u001b[0mprocessor\u001b[0m\u001b[0;34m(\u001b[0m\u001b[0mdata\u001b[0m\u001b[0;34m,\u001b[0m \u001b[0moriginal_data\u001b[0m\u001b[0;34m,\u001b[0m \u001b[0mmany\u001b[0m\u001b[0;34m=\u001b[0m\u001b[0mmany\u001b[0m\u001b[0;34m,\u001b[0m \u001b[0;34m**\u001b[0m\u001b[0mkwargs\u001b[0m\u001b[0;34m)\u001b[0m\u001b[0;34m\u001b[0m\u001b[0;34m\u001b[0m\u001b[0m\n\u001b[1;32m   1211\u001b[0m                 \u001b[0;32melse\u001b[0m\u001b[0;34m:\u001b[0m\u001b[0;34m\u001b[0m\u001b[0;34m\u001b[0m\u001b[0m\n\u001b[0;32m-> 1212\u001b[0;31m                     \u001b[0mdata\u001b[0m \u001b[0;34m=\u001b[0m \u001b[0mprocessor\u001b[0m\u001b[0;34m(\u001b[0m\u001b[0mdata\u001b[0m\u001b[0;34m,\u001b[0m \u001b[0mmany\u001b[0m\u001b[0;34m=\u001b[0m\u001b[0mmany\u001b[0m\u001b[0;34m,\u001b[0m \u001b[0;34m**\u001b[0m\u001b[0mkwargs\u001b[0m\u001b[0;34m)\u001b[0m\u001b[0;34m\u001b[0m\u001b[0;34m\u001b[0m\u001b[0m\n\u001b[0m\u001b[1;32m   1213\u001b[0m         \u001b[0;32mreturn\u001b[0m \u001b[0mdata\u001b[0m\u001b[0;34m\u001b[0m\u001b[0;34m\u001b[0m\u001b[0m\n\u001b[1;32m   1214\u001b[0m \u001b[0;34m\u001b[0m\u001b[0m\n",
      "\u001b[0;32m~/Projects/patent_client/src/patent_client/uspto/ptab/schema.py\u001b[0m in \u001b[0;36mmake_object\u001b[0;34m(self, data, **kwargs)\u001b[0m\n\u001b[1;32m     27\u001b[0m     \u001b[0;34m@\u001b[0m\u001b[0mpost_load\u001b[0m\u001b[0;34m\u001b[0m\u001b[0;34m\u001b[0m\u001b[0m\n\u001b[1;32m     28\u001b[0m     \u001b[0;32mdef\u001b[0m \u001b[0mmake_object\u001b[0m\u001b[0;34m(\u001b[0m\u001b[0mself\u001b[0m\u001b[0;34m,\u001b[0m \u001b[0mdata\u001b[0m\u001b[0;34m,\u001b[0m \u001b[0;34m**\u001b[0m\u001b[0mkwargs\u001b[0m\u001b[0;34m)\u001b[0m\u001b[0;34m:\u001b[0m\u001b[0;34m\u001b[0m\u001b[0;34m\u001b[0m\u001b[0m\n\u001b[0;32m---> 29\u001b[0;31m         \u001b[0;32mreturn\u001b[0m \u001b[0mself\u001b[0m\u001b[0;34m.\u001b[0m\u001b[0m__model__\u001b[0m\u001b[0;34m(\u001b[0m\u001b[0;34m**\u001b[0m\u001b[0mdata\u001b[0m\u001b[0;34m)\u001b[0m\u001b[0;34m\u001b[0m\u001b[0;34m\u001b[0m\u001b[0m\n\u001b[0m\u001b[1;32m     30\u001b[0m \u001b[0;34m\u001b[0m\u001b[0m\n\u001b[1;32m     31\u001b[0m \u001b[0;32mclass\u001b[0m \u001b[0mPtabProceedingSchema\u001b[0m\u001b[0;34m(\u001b[0m\u001b[0mBaseSchema\u001b[0m\u001b[0;34m)\u001b[0m\u001b[0;34m:\u001b[0m\u001b[0;34m\u001b[0m\u001b[0;34m\u001b[0m\u001b[0m\n",
      "\u001b[0;31mTypeError\u001b[0m: __init__() missing 1 required positional argument: 'respondent_party_name'"
     ]
    }
   ],
   "source": [
    "trial = PtabProceeding.objects.get('IPR2017-00001')\n",
    "print(f'PTAB Trial No. {trial.trial_number} was filed {trial.filing_date} to challenge U.S. Patent {trial.patent_number}')\n",
    "print(f'The case is styled {trial.petitioner_party_name} v. {trial.patent_owner_name}')"
   ]
  },
  {
   "cell_type": "markdown",
   "metadata": {},
   "source": [
    "The complete list of available data is again available at .attrs:"
   ]
  },
  {
   "cell_type": "code",
   "execution_count": 9,
   "metadata": {},
   "outputs": [
    {
     "name": "stdout",
     "output_type": "stream",
     "text": [
      "['trial_number', 'application_number', 'patent_number', 'petitioner_party_name', 'patent_owner_name', 'inventor_name', 'prosecution_status', 'filing_date', 'accorded_filing_date', 'institution_decision_date', 'last_modified_datetime', 'documents']\n"
     ]
    }
   ],
   "source": [
    "print(trial.attrs)"
   ]
  },
  {
   "cell_type": "markdown",
   "metadata": {},
   "source": [
    "Where possible, there are also related objects that can be fetch from a Model object. For example, the challenged patent has a related USApplication. A complete list of all related objects and other data can be found by calling the help function on the object:"
   ]
  },
  {
   "cell_type": "code",
   "execution_count": 10,
   "metadata": {},
   "outputs": [
    {
     "name": "stdout",
     "output_type": "stream",
     "text": [
      "Help on PtabTrial in module patent_client.uspto_ptab object:\n",
      "\n",
      "class PtabTrial(patent_client.util.Model)\n",
      " |  Ptab Trial\n",
      " |  ==========\n",
      " |  This object wraps the PTAB's public API (https://ptabdata.uspto.gov)\n",
      " |  \n",
      " |  ---------------------\n",
      " |  To Fetch a PTAB Trial\n",
      " |  ---------------------\n",
      " |  \n",
      " |  The main way to create a PtabTrial is by querying the PtabTrial manager at PtabTrial.objects\n",
      " |  \n",
      " |      PtabTrial.objects.filter(query) -> obtains multiple matching applications\n",
      " |      PtabTrial.objects.get(query) -> obtains a single matching application, errors if more than one is retreived\n",
      " |  \n",
      " |  The query can either be a single number, which is treated as a trial number, or a keyword argument:\n",
      " |  \n",
      " |      PtabTrial.objects.get('IPR2016-00831') -> Retreives a single trial\n",
      " |      PtabTrial.objects.filter(patent_number='6103599') -> retreives all PTAB trials involving US Patent Number 6103599\n",
      " |  \n",
      " |  A complete list of query fields is available at PtabTrial.objects.query_fields\n",
      " |  \n",
      " |  --------------\n",
      " |  Using the Data\n",
      " |  --------------\n",
      " |  A PtabTrial object has the following attributes:\n",
      " |  \n",
      " |      trial_number\n",
      " |      application_number\n",
      " |      patent_number\n",
      " |      petitioner_party_name\n",
      " |      patent_owner_name\n",
      " |      inventor_name\n",
      " |      prosecution_status\n",
      " |      filing_date\n",
      " |      accorded_filing_date\n",
      " |      institution_decision_date\n",
      " |      last_modified_datetime\n",
      " |  \n",
      " |  A PtabTrial also has access to the related documents, available at trial.documents\n",
      " |  \n",
      " |  ------------\n",
      " |  Related Data\n",
      " |  ------------\n",
      " |  A PtabTrial is also linked to other resources avaialble through patent_client, including:\n",
      " |      \n",
      " |      trial.us_application -> application which granted as the challenged patent\n",
      " |  \n",
      " |  Method resolution order:\n",
      " |      PtabTrial\n",
      " |      patent_client.util.Model\n",
      " |      builtins.object\n",
      " |  \n",
      " |  Methods defined here:\n",
      " |  \n",
      " |  __repr__(self)\n",
      " |      Default representation\n",
      " |  \n",
      " |  ----------------------------------------------------------------------\n",
      " |  Data descriptors defined here:\n",
      " |  \n",
      " |  documents\n",
      " |  \n",
      " |  us_application\n",
      " |  \n",
      " |  ----------------------------------------------------------------------\n",
      " |  Data and other attributes defined here:\n",
      " |  \n",
      " |  attrs = ['trial_number', 'application_number', 'patent_number', 'petit...\n",
      " |  \n",
      " |  objects = <patent_client.uspto_ptab.PtabTrialManager object>\n",
      " |  \n",
      " |  ----------------------------------------------------------------------\n",
      " |  Methods inherited from patent_client.util.Model:\n",
      " |  \n",
      " |  __init__(self, data)\n",
      " |      Initialize self.  See help(type(self)) for accurate signature.\n",
      " |  \n",
      " |  as_dict(self)\n",
      " |      Convert object to dictionary, recursively converting any objects to dictionaries themselves\n",
      " |  \n",
      " |  ----------------------------------------------------------------------\n",
      " |  Data descriptors inherited from patent_client.util.Model:\n",
      " |  \n",
      " |  __dict__\n",
      " |      dictionary for instance variables (if defined)\n",
      " |  \n",
      " |  __weakref__\n",
      " |      list of weak references to the object (if defined)\n",
      "\n"
     ]
    }
   ],
   "source": [
    "help(trial)"
   ]
  },
  {
   "cell_type": "markdown",
   "metadata": {},
   "source": [
    "From the data above, we see that there is a related data object called \"us_application\". That is, we can fetch the application object that corresponds to the PtabTrial simply by retreiving the attribute .us_application, like so:"
   ]
  },
  {
   "cell_type": "code",
   "execution_count": 11,
   "metadata": {},
   "outputs": [
    {
     "name": "stdout",
     "output_type": "stream",
     "text": [
      "<USApplication(appl_id=11395685)>\n",
      "{'app_filing_date': datetime.date(2006, 3, 31), 'app_exam_name': 'PHAM, TOAN NGOC', 'app_early_pub_number': 'US20060181406A1', 'app_early_pub_date': datetime.date(2006, 8, 17), 'app_location': 'ELECTRONIC', 'app_grp_art_number': '2612', 'app_status': 'Application Involved in Court Proceedings', 'app_status_date': datetime.date(2018, 5, 16), 'app_attr_dock_number': 'STAT3', 'app_type': 'Utility', 'app_cust_number': '89818', 'app_cls_sub_cls': '340/531000', 'app_entity_status': 'UNDISCOUNTED', 'app_confr_number': '1922'}\n"
     ]
    }
   ],
   "source": [
    "trial_app = trial.us_application\n",
    "print(trial_app)\n",
    "print({k:v for (k, v) in trial_app.as_dict().items() if 'app_' in k})"
   ]
  },
  {
   "cell_type": "code",
   "execution_count": null,
   "metadata": {},
   "outputs": [],
   "source": []
  }
 ],
 "metadata": {
  "kernelspec": {
   "display_name": "Python 3",
   "language": "python",
   "name": "python3"
  },
  "language_info": {
   "codemirror_mode": {
    "name": "ipython",
    "version": 3
   },
   "file_extension": ".py",
   "mimetype": "text/x-python",
   "name": "python",
   "nbconvert_exporter": "python",
   "pygments_lexer": "ipython3",
   "version": "3.7.4"
  }
 },
 "nbformat": 4,
 "nbformat_minor": 4
}
