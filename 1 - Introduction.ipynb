{
 "cells": [
  {
   "cell_type": "markdown",
   "metadata": {},
   "source": [
    "# Introduction to Patent_Client\n",
    "\n",
    "The patent_client package provides easy access to a number of USPTO and EPO patent data resources, all through a familiar ORM-like interface. If you have experience with the [Django ORM](https://docs.djangoproject.com/en/2.1/topics/db/queries/#retrieving-objects) with some extra features to accomodate the various data sources. Each data source is encapsulated in a Model object that represents various API's. The top-level models are:\n",
    "\n",
    "- `USApplication` (USPTO Patent Examination Data System)\n",
    "- `PtabTrial` (USPTO PTAB Trials API)\n",
    "- `Assignment` (USPTO Assignments API)\n",
    "- `Inpadoc` (EPO Inpadoc API)\n",
    "- `Epo` (EPO Register API)\n",
    "- `ITCInvestigation` (USITC EDS API)\n",
    "\n",
    "Several of these models also have sub-models, as discussed below. This notebook shows some simple examples for doing data lookups with each of the models. The other notebooks in the repository show more complex analysis using the [Pandas](https://pandas.pydata.org/) data science library."
   ]
  },
  {
   "cell_type": "markdown",
   "metadata": {},
   "source": [
    "## USApplication (USPTO Patent Examination Data System)\n",
    "\n",
    "The first model we'll look at is USApplication, an abstraction on top of the [USPTO Patent Examination Data System API](https://ped.uspto.gov/peds/#/apiDocumentation). The first step, which is common to all models, is to import the model object - USApplication. "
   ]
  },
  {
   "cell_type": "code",
   "execution_count": 1,
   "metadata": {},
   "outputs": [],
   "source": [
    "from patent_client import USApplication"
   ]
  },
  {
   "cell_type": "markdown",
   "metadata": {},
   "source": [
    "The model can then be queried to get actual data back to do analysis, review, etc. All queries take one of two forms:\n",
    "\n",
    "- Model.objects.filter(query) -> retreives many objects\n",
    "- Model.objects.get(query) -> retreives one object, otherwise throws an error\n",
    "\n",
    "For example, we can query USApplications by applicant by passing the query:\n",
    "```python\n",
    "    USApplication.objects.filter(first_named_applicant='Tesla Motors')\n",
    "```\n",
    "\n",
    "This query will retrieve all applications that name Tesla Motors as an applicant. By default, if you pass in only an argument without a keyword, like this:\n",
    "\n",
    "```python\n",
    "    USApplication.objects.get(\"10123456\")\n",
    "```\n",
    "the model assumes that you're referring to the application number, and fetches the corresponding app. A complete list of available query fields is available at Model.objects.query_fields. For example:\n",
    "\n",
    "```python\n",
    "    USApplication.objects.query_fields\n",
    "```\n",
    "\n",
    "*NOTE:* If you ever need help with something, try calling the Python builtin \"help\" function. All models have (or should have) super-handy help text about queries, available information, related objects, etc. E.g.:\n",
    "\n",
    "```python\n",
    "    help(USApplication)\n",
    "```  "
   ]
  },
  {
   "cell_type": "markdown",
   "metadata": {},
   "source": [
    "To protect the innocent, we'll use Tesla's patent portfolio as an example - a company that has publicly agreed not to assert its patents against others. To do a lookup by applicant, we query USApplication object like this:"
   ]
  },
  {
   "cell_type": "code",
   "execution_count": 2,
   "metadata": {},
   "outputs": [
    {
     "name": "stdout",
     "output_type": "stream",
     "text": [
      "We found apps with these applicant names:\n",
      "['TESLA MOTORS. INC.', 'Inc.', 'TESLA MOTORS, INC', 'TESLA MOTORS, INC.', 'Tesla Motors, Inc.']\n"
     ]
    }
   ],
   "source": [
    "tesla_apps = USApplication.objects.filter(first_named_applicant='Tesla Motors')\n",
    "print('We found apps with these applicant names:')\n",
    "print(list(set(a.applicants[0]['name_line_one'] for a in tesla_apps)))"
   ]
  },
  {
   "cell_type": "markdown",
   "metadata": {},
   "source": [
    "Let's grab one case, and explore the data therein. Note that all Model objects implement an .attrs method that provides a list of their data attributes:"
   ]
  },
  {
   "cell_type": "code",
   "execution_count": 3,
   "metadata": {},
   "outputs": [
    {
     "name": "stdout",
     "output_type": "stream",
     "text": [
      "The following data elements are available:\n",
      "['appl_id', 'applicants', 'app_filing_date', 'app_exam_name', 'inventors', 'app_early_pub_number', 'app_early_pub_date', 'app_location', 'app_grp_art_number', 'patent_number', 'patent_issue_date', 'app_status', 'app_status_date', 'patent_title', 'app_attr_dock_number', 'first_inventor_file', 'app_type', 'app_cust_number', 'app_cls_sub_cls', 'corr_addr_cust_no', 'app_entity_status', 'app_confr_number', 'transaction_history', 'children', 'parents', 'foreign_priority_applications', 'pta_pte_history', 'pta_pte_summary', 'correspondent', 'attorneys']\n"
     ]
    }
   ],
   "source": [
    "tesla_app = tesla_apps[15]\n",
    "print('The following data elements are available:')\n",
    "print(tesla_app.attrs)"
   ]
  },
  {
   "cell_type": "markdown",
   "metadata": {},
   "source": [
    "As you can see, there is a wealth of data about this particular case. Most of the names are relatively self-explanatory. We can look at some basic data by grabbing all the elements that start with \"app\". First, we'll use the .as_dict() method to convert the application to a standard Python dictionary. Then we'll only print items if they contain \"_app\":"
   ]
  },
  {
   "cell_type": "code",
   "execution_count": 12,
   "metadata": {},
   "outputs": [
    {
     "name": "stdout",
     "output_type": "stream",
     "text": [
      "appl_id: 13629597\n",
      "app_filing_date: 2012-09-27\n",
      "app_exam_name: FOSTER, GERRAD A\n",
      "app_early_pub_number: US20140088826A1\n",
      "app_early_pub_date: 2014-03-27\n",
      "app_location: ELECTRONIC\n",
      "app_grp_art_number: 3669\n",
      "app_status: Patented Case\n",
      "app_status_date: 2014-12-23\n",
      "app_attr_dock_number: 2011US0045/P0574-2NUS\n",
      "app_type: Utility\n",
      "app_cust_number: 113241\n",
      "app_cls_sub_cls: 701/036000\n",
      "app_entity_status: UNDISCOUNTED\n",
      "app_confr_number: 8642\n"
     ]
    }
   ],
   "source": [
    "for k, v in tesla_app.as_dict().items():\n",
    "    if 'app_' in k or k == 'appl_id':\n",
    "        print(f'{k}: {v}')\n",
    "        "
   ]
  },
  {
   "cell_type": "markdown",
   "metadata": {},
   "source": [
    "There are also some composite data elements. These elements consist of several related Model objects that model some part of the Application data. These data elements are:\n",
    "    \n",
    "- `USApplication.transaction_history` (a list of Transaction objects)\n",
    "- `USApplication.children` and `USApplication.parents` (both are lists of Relationship objects)\n",
    "- `USApplication.foreign_priority` (a list of ForeignPriority objects)\n",
    "- `USApplication.pta_pte_history` (a list of PtaPteHistory objects)\n",
    "- `USApplication.pta_pte_summary` (a PtaPteSummary object)\n",
    "- `USApplication.correspondent` (a Correspondent object)\n",
    "- `USApplication.attorneys` (a list of Attorney objects)\n",
    "    \n",
    "To use as an example, let's take a look at the transaction data, and fetch the first 15 records. "
   ]
  },
  {
   "cell_type": "code",
   "execution_count": 5,
   "metadata": {},
   "outputs": [
    {
     "data": {
      "text/plain": [
       "[<Transaction(date=2012-09-27, description=Initial Exam Team nn)>,\n",
       " <Transaction(date=2012-09-28, description=IFW Scan & PACR Auto Security Review)>,\n",
       " <Transaction(date=2012-10-01, description=Cleared by OIPE CSR)>,\n",
       " <Transaction(date=2012-10-18, description=Filing Receipt)>,\n",
       " <Transaction(date=2012-10-18, description=Notice Mailed--Application Incomplete--Filing Date Assigned)>,\n",
       " <Transaction(date=2012-10-31, description=Applicants have given acceptable permission for participating foreign)>,\n",
       " <Transaction(date=2012-10-31, description=Additional Application Filing Fees)>,\n",
       " <Transaction(date=2012-10-31, description=A statement by one or more inventors satisfying the requirement under 35 USC 115, Oath of the Applic)>,\n",
       " <Transaction(date=2013-06-25, description=Correspondence Address Change)>,\n",
       " <Transaction(date=2013-07-02, description=Application Is Now Complete)>,\n",
       " <Transaction(date=2013-07-02, description=Change in Power of Attorney (May Include Associate POA))>,\n",
       " <Transaction(date=2013-07-02, description=Sent to Classification Contractor)>,\n",
       " <Transaction(date=2013-07-02, description=Filing Receipt - Updated)>,\n",
       " <Transaction(date=2013-09-19, description=Application Dispatched from OIPE)>,\n",
       " <Transaction(date=2013-09-23, description=Case Docketed to Examiner in GAU)>]"
      ]
     },
     "execution_count": 5,
     "metadata": {},
     "output_type": "execute_result"
    }
   ],
   "source": [
    "tesla_app.transaction_history[:15]"
   ]
  },
  {
   "cell_type": "markdown",
   "metadata": {},
   "source": [
    "This shows the earliest days of the case, illustrating the USPTO workflow of processing the application from the initial filing date (2012-09-27) to when the case was placed on the examiner's docket (2013-09-23). You might notice that the above data is relatively messy. We can make the data look a bit cleaner by converting the objects to a Pandas dataframe. Every model object in patent_client implements an .as_dict() method that automatically converts the object to an ordinary python dictionary. We can take advantage of that, along with a generator expression, to create a dataframe. This works because each Transaction is itself a Model object:"
   ]
  },
  {
   "cell_type": "code",
   "execution_count": 6,
   "metadata": {},
   "outputs": [
    {
     "data": {
      "text/html": [
       "<div>\n",
       "<style scoped>\n",
       "    .dataframe tbody tr th:only-of-type {\n",
       "        vertical-align: middle;\n",
       "    }\n",
       "\n",
       "    .dataframe tbody tr th {\n",
       "        vertical-align: top;\n",
       "    }\n",
       "\n",
       "    .dataframe thead th {\n",
       "        text-align: right;\n",
       "    }\n",
       "</style>\n",
       "<table border=\"1\" class=\"dataframe\">\n",
       "  <thead>\n",
       "    <tr style=\"text-align: right;\">\n",
       "      <th></th>\n",
       "      <th>code</th>\n",
       "      <th>date</th>\n",
       "      <th>description</th>\n",
       "    </tr>\n",
       "  </thead>\n",
       "  <tbody>\n",
       "    <tr>\n",
       "      <th>0</th>\n",
       "      <td>IEXX</td>\n",
       "      <td>2012-09-27</td>\n",
       "      <td>Initial Exam Team nn</td>\n",
       "    </tr>\n",
       "    <tr>\n",
       "      <th>1</th>\n",
       "      <td>SCAN</td>\n",
       "      <td>2012-09-28</td>\n",
       "      <td>IFW Scan &amp; PACR Auto Security Review</td>\n",
       "    </tr>\n",
       "    <tr>\n",
       "      <th>2</th>\n",
       "      <td>L194</td>\n",
       "      <td>2012-10-01</td>\n",
       "      <td>Cleared by OIPE CSR</td>\n",
       "    </tr>\n",
       "    <tr>\n",
       "      <th>3</th>\n",
       "      <td>FLRCPT.O</td>\n",
       "      <td>2012-10-18</td>\n",
       "      <td>Filing Receipt</td>\n",
       "    </tr>\n",
       "    <tr>\n",
       "      <th>4</th>\n",
       "      <td>INCD</td>\n",
       "      <td>2012-10-18</td>\n",
       "      <td>Notice Mailed--Application Incomplete--Filing Date Assigned</td>\n",
       "    </tr>\n",
       "    <tr>\n",
       "      <th>5</th>\n",
       "      <td>APPERMS</td>\n",
       "      <td>2012-10-31</td>\n",
       "      <td>Applicants have given acceptable permission for participating foreign</td>\n",
       "    </tr>\n",
       "    <tr>\n",
       "      <th>6</th>\n",
       "      <td>ADDFLFEE</td>\n",
       "      <td>2012-10-31</td>\n",
       "      <td>Additional Application Filing Fees</td>\n",
       "    </tr>\n",
       "    <tr>\n",
       "      <th>7</th>\n",
       "      <td>OATHDECL</td>\n",
       "      <td>2012-10-31</td>\n",
       "      <td>A statement by one or more inventors satisfying the requirement under 35 USC 115, Oath of the Applic</td>\n",
       "    </tr>\n",
       "    <tr>\n",
       "      <th>8</th>\n",
       "      <td>C.AD</td>\n",
       "      <td>2013-06-25</td>\n",
       "      <td>Correspondence Address Change</td>\n",
       "    </tr>\n",
       "    <tr>\n",
       "      <th>9</th>\n",
       "      <td>COMP</td>\n",
       "      <td>2013-07-02</td>\n",
       "      <td>Application Is Now Complete</td>\n",
       "    </tr>\n",
       "    <tr>\n",
       "      <th>10</th>\n",
       "      <td>PA..</td>\n",
       "      <td>2013-07-02</td>\n",
       "      <td>Change in Power of Attorney (May Include Associate POA)</td>\n",
       "    </tr>\n",
       "    <tr>\n",
       "      <th>11</th>\n",
       "      <td>PGPC</td>\n",
       "      <td>2013-07-02</td>\n",
       "      <td>Sent to Classification Contractor</td>\n",
       "    </tr>\n",
       "    <tr>\n",
       "      <th>12</th>\n",
       "      <td>FLRCPT.U</td>\n",
       "      <td>2013-07-02</td>\n",
       "      <td>Filing Receipt - Updated</td>\n",
       "    </tr>\n",
       "    <tr>\n",
       "      <th>13</th>\n",
       "      <td>OIPE</td>\n",
       "      <td>2013-09-19</td>\n",
       "      <td>Application Dispatched from OIPE</td>\n",
       "    </tr>\n",
       "    <tr>\n",
       "      <th>14</th>\n",
       "      <td>DOCK</td>\n",
       "      <td>2013-09-23</td>\n",
       "      <td>Case Docketed to Examiner in GAU</td>\n",
       "    </tr>\n",
       "  </tbody>\n",
       "</table>\n",
       "</div>"
      ],
      "text/plain": [
       "        code        date  \\\n",
       "0   IEXX      2012-09-27   \n",
       "1   SCAN      2012-09-28   \n",
       "2   L194      2012-10-01   \n",
       "3   FLRCPT.O  2012-10-18   \n",
       "4   INCD      2012-10-18   \n",
       "5   APPERMS   2012-10-31   \n",
       "6   ADDFLFEE  2012-10-31   \n",
       "7   OATHDECL  2012-10-31   \n",
       "8   C.AD      2013-06-25   \n",
       "9   COMP      2013-07-02   \n",
       "10  PA..      2013-07-02   \n",
       "11  PGPC      2013-07-02   \n",
       "12  FLRCPT.U  2013-07-02   \n",
       "13  OIPE      2013-09-19   \n",
       "14  DOCK      2013-09-23   \n",
       "\n",
       "                                                                                             description  \n",
       "0   Initial Exam Team nn                                                                                  \n",
       "1   IFW Scan & PACR Auto Security Review                                                                  \n",
       "2   Cleared by OIPE CSR                                                                                   \n",
       "3   Filing Receipt                                                                                        \n",
       "4   Notice Mailed--Application Incomplete--Filing Date Assigned                                           \n",
       "5   Applicants have given acceptable permission for participating foreign                                 \n",
       "6   Additional Application Filing Fees                                                                    \n",
       "7   A statement by one or more inventors satisfying the requirement under 35 USC 115, Oath of the Applic  \n",
       "8   Correspondence Address Change                                                                         \n",
       "9   Application Is Now Complete                                                                           \n",
       "10  Change in Power of Attorney (May Include Associate POA)                                               \n",
       "11  Sent to Classification Contractor                                                                     \n",
       "12  Filing Receipt - Updated                                                                              \n",
       "13  Application Dispatched from OIPE                                                                      \n",
       "14  Case Docketed to Examiner in GAU                                                                      "
      ]
     },
     "execution_count": 6,
     "metadata": {},
     "output_type": "execute_result"
    }
   ],
   "source": [
    "import pandas as pd\n",
    "pd.set_option('display.max_colwidth', -1) # makes sure the table runs all the way to the edge\n",
    "\n",
    "pd.DataFrame.from_records(t.as_dict() for t in tesla_app.transaction_history[:15])"
   ]
  },
  {
   "cell_type": "markdown",
   "metadata": {},
   "source": [
    "## PtabTrial (USPTO PTAB Api)\n",
    "\n",
    "Now that you've seen a little bit of the USApplication API, let's take a look at the PTAB Trials API. We'll start with the usual import:"
   ]
  },
  {
   "cell_type": "code",
   "execution_count": 7,
   "metadata": {},
   "outputs": [],
   "source": [
    "from patent_client import PtabTrial"
   ]
  },
  {
   "cell_type": "markdown",
   "metadata": {},
   "source": [
    "For randomness' sake, we'll pick the first IPR of 2017 to play around with, and look it up by its trial number:"
   ]
  },
  {
   "cell_type": "code",
   "execution_count": 8,
   "metadata": {},
   "outputs": [
    {
     "name": "stdout",
     "output_type": "stream",
     "text": [
      "PTAB Trial No. IPR2017-00001 was filed 2016-10-01 to challenge U.S. Patent 7468661\n",
      "The case is styled Emerson Electric Co. v. Petite et al\n"
     ]
    }
   ],
   "source": [
    "trial = PtabTrial.objects.get('IPR2017-00001')\n",
    "print(f'PTAB Trial No. {trial.trial_number} was filed {trial.filing_date} to challenge U.S. Patent {trial.patent_number}')\n",
    "print(f'The case is styled {trial.petitioner_party_name} v. {trial.patent_owner_name}')"
   ]
  },
  {
   "cell_type": "markdown",
   "metadata": {},
   "source": [
    "The complete list of available data is again available at .attrs:"
   ]
  },
  {
   "cell_type": "code",
   "execution_count": 9,
   "metadata": {},
   "outputs": [
    {
     "name": "stdout",
     "output_type": "stream",
     "text": [
      "['trial_number', 'application_number', 'patent_number', 'petitioner_party_name', 'patent_owner_name', 'inventor_name', 'prosecution_status', 'filing_date', 'accorded_filing_date', 'institution_decision_date', 'last_modified_datetime', 'documents']\n"
     ]
    }
   ],
   "source": [
    "print(trial.attrs)"
   ]
  },
  {
   "cell_type": "markdown",
   "metadata": {},
   "source": [
    "Where possible, there are also related objects that can be fetch from a Model object. For example, the challenged patent has a related USApplication. A complete list of all related objects and other data can be found by calling the help function on the object:"
   ]
  },
  {
   "cell_type": "code",
   "execution_count": 10,
   "metadata": {},
   "outputs": [
    {
     "name": "stdout",
     "output_type": "stream",
     "text": [
      "Help on PtabTrial in module patent_client.uspto_ptab object:\n",
      "\n",
      "class PtabTrial(patent_client.util.Model)\n",
      " |  Ptab Trial\n",
      " |  ==========\n",
      " |  This object wraps the PTAB's public API (https://ptabdata.uspto.gov)\n",
      " |  \n",
      " |  ---------------------\n",
      " |  To Fetch a PTAB Trial\n",
      " |  ---------------------\n",
      " |  \n",
      " |  The main way to create a PtabTrial is by querying the PtabTrial manager at PtabTrial.objects\n",
      " |  \n",
      " |      PtabTrial.objects.filter(query) -> obtains multiple matching applications\n",
      " |      PtabTrial.objects.get(query) -> obtains a single matching application, errors if more than one is retreived\n",
      " |  \n",
      " |  The query can either be a single number, which is treated as a trial number, or a keyword argument:\n",
      " |  \n",
      " |      PtabTrial.objects.get('IPR2016-00831') -> Retreives a single trial\n",
      " |      PtabTrial.objects.filter(patent_number='6103599') -> retreives all PTAB trials involving US Patent Number 6103599\n",
      " |  \n",
      " |  A complete list of query fields is available at PtabTrial.objects.query_fields\n",
      " |  \n",
      " |  --------------\n",
      " |  Using the Data\n",
      " |  --------------\n",
      " |  A PtabTrial object has the following attributes:\n",
      " |  \n",
      " |      trial_number\n",
      " |      application_number\n",
      " |      patent_number\n",
      " |      petitioner_party_name\n",
      " |      patent_owner_name\n",
      " |      inventor_name\n",
      " |      prosecution_status\n",
      " |      filing_date\n",
      " |      accorded_filing_date\n",
      " |      institution_decision_date\n",
      " |      last_modified_datetime\n",
      " |  \n",
      " |  A PtabTrial also has access to the related documents, available at trial.documents\n",
      " |  \n",
      " |  ------------\n",
      " |  Related Data\n",
      " |  ------------\n",
      " |  A PtabTrial is also linked to other resources avaialble through patent_client, including:\n",
      " |      \n",
      " |      trial.us_application -> application which granted as the challenged patent\n",
      " |  \n",
      " |  Method resolution order:\n",
      " |      PtabTrial\n",
      " |      patent_client.util.Model\n",
      " |      builtins.object\n",
      " |  \n",
      " |  Methods defined here:\n",
      " |  \n",
      " |  __repr__(self)\n",
      " |      Default representation\n",
      " |  \n",
      " |  ----------------------------------------------------------------------\n",
      " |  Data descriptors defined here:\n",
      " |  \n",
      " |  documents\n",
      " |  \n",
      " |  us_application\n",
      " |  \n",
      " |  ----------------------------------------------------------------------\n",
      " |  Data and other attributes defined here:\n",
      " |  \n",
      " |  attrs = ['trial_number', 'application_number', 'patent_number', 'petit...\n",
      " |  \n",
      " |  objects = <patent_client.uspto_ptab.PtabTrialManager object>\n",
      " |  \n",
      " |  ----------------------------------------------------------------------\n",
      " |  Methods inherited from patent_client.util.Model:\n",
      " |  \n",
      " |  __init__(self, data)\n",
      " |      Initialize self.  See help(type(self)) for accurate signature.\n",
      " |  \n",
      " |  as_dict(self)\n",
      " |      Convert object to dictionary, recursively converting any objects to dictionaries themselves\n",
      " |  \n",
      " |  ----------------------------------------------------------------------\n",
      " |  Data descriptors inherited from patent_client.util.Model:\n",
      " |  \n",
      " |  __dict__\n",
      " |      dictionary for instance variables (if defined)\n",
      " |  \n",
      " |  __weakref__\n",
      " |      list of weak references to the object (if defined)\n",
      "\n"
     ]
    }
   ],
   "source": [
    "help(trial)"
   ]
  },
  {
   "cell_type": "markdown",
   "metadata": {},
   "source": [
    "From the data above, we see that there is a related data object called \"us_application\". That is, we can fetch the application object that corresponds to the PtabTrial simply by retreiving the attribute .us_application, like so:"
   ]
  },
  {
   "cell_type": "code",
   "execution_count": 11,
   "metadata": {},
   "outputs": [
    {
     "name": "stdout",
     "output_type": "stream",
     "text": [
      "<USApplication(appl_id=11395685)>\n",
      "{'app_filing_date': datetime.date(2006, 3, 31), 'app_exam_name': 'PHAM, TOAN NGOC', 'app_early_pub_number': 'US20060181406A1', 'app_early_pub_date': datetime.date(2006, 8, 17), 'app_location': 'ELECTRONIC', 'app_grp_art_number': '2612', 'app_status': 'Application Involved in Court Proceedings', 'app_status_date': datetime.date(2018, 5, 16), 'app_attr_dock_number': 'STAT3', 'app_type': 'Utility', 'app_cust_number': '89818', 'app_cls_sub_cls': '340/531000', 'app_entity_status': 'UNDISCOUNTED', 'app_confr_number': '1922'}\n"
     ]
    }
   ],
   "source": [
    "trial_app = trial.us_application\n",
    "print(trial_app)\n",
    "print({k:v for (k, v) in trial_app.as_dict().items() if 'app_' in k})"
   ]
  },
  {
   "cell_type": "code",
   "execution_count": null,
   "metadata": {},
   "outputs": [],
   "source": []
  }
 ],
 "metadata": {
  "kernelspec": {
   "display_name": "Python 3",
   "language": "python",
   "name": "python3"
  },
  "language_info": {
   "codemirror_mode": {
    "name": "ipython",
    "version": 3
   },
   "file_extension": ".py",
   "mimetype": "text/x-python",
   "name": "python",
   "nbconvert_exporter": "python",
   "pygments_lexer": "ipython3",
   "version": "3.6.7"
  }
 },
 "nbformat": 4,
 "nbformat_minor": 2
}
